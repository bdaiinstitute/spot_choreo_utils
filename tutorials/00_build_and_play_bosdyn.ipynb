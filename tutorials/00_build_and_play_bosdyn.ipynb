{
 "cells": [
  {
   "cell_type": "markdown",
   "id": "23ff534f-941e-42ac-ade2-9ad472077173",
   "metadata": {},
   "source": [
    "# Basic Animation Playback"
   ]
  },
  {
   "cell_type": "markdown",
   "id": "cf7a58ce",
   "metadata": {},
   "source": [
    "This notebook will walk you through the basics of loading, inspecting, and playing back Choreography animations and sequences."
   ]
  },
  {
   "cell_type": "markdown",
   "id": "fa32c231",
   "metadata": {},
   "source": [
    "## Step 1: Connect to robot"
   ]
  },
  {
   "cell_type": "code",
   "execution_count": null,
   "id": "706ef878",
   "metadata": {},
   "outputs": [],
   "source": [
    "import logging\n",
    "from spot_wrapper.wrapper import SpotWrapper\n",
    "\n",
    "hostname=\"__ROBOT_IP__\"\n",
    "robot_name=\"__ROBOT_NAME__\"\n",
    "username=\"__USERNAME__\"\n",
    "password=\"__PASSWORD__\"\n",
    "port = 0\n",
    "logger = logging.Logger(name=\"spot_wrapper_logger\")\n",
    "\n",
    "spot_wrapper = SpotWrapper(\n",
    "    username=username, \n",
    "    password=password, \n",
    "    hostname=hostname, \n",
    "    port=port, \n",
    "    robot_name=robot_name, \n",
    "    logger=logger, \n",
    "    use_take_lease=True)\n",
    "\n",
    "assert(spot_wrapper.is_valid)\n",
    "spot_wrapper.claim()"
   ]
  },
  {
   "cell_type": "markdown",
   "id": "26b109c9",
   "metadata": {},
   "source": [
    "## Uploading Animations and Sequences"
   ]
  },
  {
   "cell_type": "markdown",
   "id": "e42ff495",
   "metadata": {},
   "source": [
    "Animations and sequences are stored in the robot's memory before playback. In the next cells we'll load an animation onto the robot and then prepare a sequence for playback that will trigger the animation."
   ]
  },
  {
   "cell_type": "code",
   "execution_count": null,
   "id": "75c6d9a4",
   "metadata": {},
   "outputs": [],
   "source": [
    "# Load Animation\n",
    "from pathlib import Path\n",
    "from spot_choreo_utils.paths import get_example_choreo_path\n",
    "from spot_choreo_utils.serialization.serialization_utils import load_animation\n",
    "\n",
    "animation = load_animation(Path(get_example_choreo_path(), \"animations\", \"pose_to_pose_animation.pbtxt\"))\n",
    "spot_wrapper.upload_animation_proto(animation)"
   ]
  },
  {
   "cell_type": "code",
   "execution_count": null,
   "id": "5774646e",
   "metadata": {},
   "outputs": [],
   "source": [
    "# Load Sequence\n",
    "from pathlib import Path\n",
    "from spot_choreo_utils.paths import get_example_choreo_path\n",
    "from spot_choreo_utils.serialization.serialization_utils import load_sequence\n",
    "\n",
    "sequence = load_sequence(Path(get_example_choreo_path(), \"sequences\", \"pose_to_pose_sequence.pbtxt\"))"
   ]
  },
  {
   "cell_type": "markdown",
   "id": "2e3431a5-7790-4d53-ba9f-1051615d2f8b",
   "metadata": {},
   "source": [
    "Let's take a look under the hood of animations and sequences."
   ]
  },
  {
   "cell_type": "code",
   "execution_count": null,
   "id": "78bb283c-7e15-4543-8cc2-a61f66e0d4ff",
   "metadata": {},
   "outputs": [],
   "source": [
    "print(animation)"
   ]
  },
  {
   "cell_type": "code",
   "execution_count": null,
   "id": "8af22135-4f63-4373-9b20-34c996df0a68",
   "metadata": {},
   "outputs": [],
   "source": [
    "print(sequence)"
   ]
  },
  {
   "cell_type": "markdown",
   "id": "614ba280-d310-4e4d-ab5f-6cf857398019",
   "metadata": {},
   "source": [
    "The animation starts with a name, and then hsa repeated blocks of data called animation_keyframes. Each of these keyframes specifies where the robot's body should be in space (relative to wherever the animation started) and joint angles for all the robot's joints. Each keyframe has a timestamp and during playback the robot will automatically interpolate between these joint positions as best it can.\n",
    "\n",
    "The sequence is much shorter. The most important paramater is the animation_name, which matches the name in the animation definition. When you execute a dance on the robot and it encounters an animation_name, it will go check for that animation in the list of animations that have been uploaded. This is why all animations must be uploaded manually before playing back the choreography sequence.\n",
    "\n",
    "Let's start the animation. Be sure to keep a safe distance from the robot before running the next cell."
   ]
  },
  {
   "cell_type": "code",
   "execution_count": null,
   "id": "f2f1e13c",
   "metadata": {},
   "outputs": [],
   "source": [
    "# Playback Animation\n",
    "res, message = spot_wrapper.execute_dance(sequence, start_slice=0)\n",
    "print(f\"{res} - {message}\")"
   ]
  },
  {
   "cell_type": "markdown",
   "id": "419f28cd-e2d8-4e67-b094-14be206bcefe",
   "metadata": {},
   "source": [
    "Congratulations! You've played your first dance on Spot. Now let's start looking into how animations are built under the hood"
   ]
  },
  {
   "cell_type": "markdown",
   "id": "fbc215fd",
   "metadata": {},
   "source": [
    "# Create an animation from scratch. "
   ]
  },
  {
   "cell_type": "markdown",
   "id": "d02258a1-69c2-4f6b-be4b-5cf8d693ea75",
   "metadata": {},
   "source": [
    "The next cell will build a simple animation to open and close the spot gripper by manually setting all of the properties through python instead of loading them in from a file."
   ]
  },
  {
   "cell_type": "code",
   "execution_count": null,
   "id": "3b6e0d5b",
   "metadata": {},
   "outputs": [],
   "source": [
    "from bosdyn.api.spot.choreography_sequence_pb2 import (\n",
    "    Animation,\n",
    "    AnimationKeyframe,\n",
    "    AnimateGripper\n",
    ")\n",
    "from google.protobuf.wrappers_pb2 import DoubleValue\n",
    "\n",
    "GRIPPER_ANIMATION_NAME = \"gripper_open_close\"\n",
    "\n",
    "# Define joint states\n",
    "GRIPPER_OPEN_ANGLE = -1\n",
    "GRIPPER_CLOSED_ANGLE = 0 \n",
    "\n",
    "gripper_open = AnimateGripper()\n",
    "gripper_open.gripper_angle.CopyFrom(DoubleValue(value=GRIPPER_OPEN_ANGLE))\n",
    "\n",
    "gripper_close = AnimateGripper()\n",
    "gripper_close.gripper_angle.CopyFrom(DoubleValue(value=GRIPPER_CLOSED_ANGLE))\n",
    "\n",
    "# Create keyframe by combining joint states with timestamps\n",
    "start_keyframe =  AnimationKeyframe()\n",
    "start_keyframe.time = 0\n",
    "start_keyframe.gripper.CopyFrom(gripper_close)\n",
    "\n",
    "mid_keyframe =  AnimationKeyframe()\n",
    "mid_keyframe.time = 1\n",
    "mid_keyframe.gripper.CopyFrom(gripper_open)\n",
    "\n",
    "end_keyframe =  AnimationKeyframe()\n",
    "end_keyframe.time = 2\n",
    "end_keyframe.gripper.CopyFrom(gripper_close)\n",
    "\n",
    "# Add keyframes to an animation\n",
    "gripper_animation_proto = Animation()\n",
    "gripper_animation_proto.name = GRIPPER_ANIMATION_NAME\n",
    "\n",
    "gripper_animation_proto.controls_gripper = True\n",
    "gripper_animation_proto.animation_keyframes.append(start_keyframe)\n",
    "gripper_animation_proto.animation_keyframes.append(mid_keyframe)\n",
    "gripper_animation_proto.animation_keyframes.append(end_keyframe)\n",
    "\n",
    "# Upload the animation\n",
    "res, message = spot_wrapper.upload_animation_proto(gripper_animation_proto)\n",
    "print(f\"{res} - {message}\")"
   ]
  },
  {
   "cell_type": "markdown",
   "id": "3fd34c96",
   "metadata": {},
   "source": [
    "That's an awful lot of code just to make a gripper open and close! And we haven't even set up the sequence to execute the animation. We'll set that up in the next cell."
   ]
  },
  {
   "cell_type": "code",
   "execution_count": null,
   "id": "3d960186",
   "metadata": {},
   "outputs": [],
   "source": [
    "from bosdyn.api.spot.choreography_params_pb2 import (AnimateParams)\n",
    "from bosdyn.api.spot.choreography_sequence_pb2 import (ChoreographySequence, \n",
    "                                                       MoveParams)\n",
    "\n",
    "SEQUENCE_NAME = \"programatic_sequence\"\n",
    "ANIMATION_NAME = GRIPPER_ANIMATION_NAME #\"whole_body_animation\"\n",
    "# This paramater is more important within the Choreographer GUI so you can calculate how \n",
    "# BPMs translate into slices and set one keyframe for each 1/4 of a beat. For procedural animations\n",
    "# we set the time directly so you might as well have an arbitrarily high precision for slices_per_minute\n",
    "SLICES_PER_MINUTE = 6000\n",
    "# Requested slices doesn't matter for a sequence that has only one move\n",
    "# For multi-move sequences this should be claculated with slices per minute and animation length\n",
    "REQUESTED_SLICES = 1\n",
    "\n",
    "animation_params = AnimateParams()\n",
    "animation_params.animation_name = ANIMATION_NAME\n",
    "\n",
    "animation_move = MoveParams()\n",
    "animation_move.type = \"animation\"\n",
    "# Must be > 0\n",
    "animation_move.start_slice = 1\n",
    "animation_move.requested_slices = REQUESTED_SLICES\n",
    "animation_move.animate_params.CopyFrom(animation_params)\n",
    "\n",
    "template_sequence = ChoreographySequence()\n",
    "template_sequence.name = SEQUENCE_NAME\n",
    "template_sequence.slices_per_minute = SLICES_PER_MINUTE\n",
    "template_sequence.moves.extend([animation_move])"
   ]
  },
  {
   "cell_type": "markdown",
   "id": "cba2886a-4fdb-495f-8a1e-f52e2b209e00",
   "metadata": {},
   "source": [
    "Stand clear of the robot and run the next cell to see the gripper open and close"
   ]
  },
  {
   "cell_type": "code",
   "execution_count": null,
   "id": "19318d47-566e-40c8-a8e8-d55e951cb0c5",
   "metadata": {},
   "outputs": [],
   "source": [
    "res, message = spot_wrapper.execute_dance(template_sequence, start_slice=0)\n",
    "print(f\"{res} - {message}\")"
   ]
  },
  {
   "cell_type": "markdown",
   "id": "4131ca10-0b08-4128-9370-30476208c413",
   "metadata": {},
   "source": [
    "Congratulations! You've successfully loaded, built, and played choreography. But it took an awful lot of code to do it. In the next tutorial we'll look at some of the core functions within the spot_choreo_utils repo that can reduce the complexity of creating dances and speed up your process of creating exciting new motion with spot."
   ]
  },
  {
   "cell_type": "markdown",
   "id": "95ed9722-3c7b-42ed-9142-98070ca4ca37",
   "metadata": {},
   "source": [
    "## Appendix\n",
    "For more information on the choreography protobufs featured in this notebook, check out the official Boston Dynamics documentation.\n",
    "https://dev.bostondynamics.com/protos/bosdyn/api/proto_reference#animation"
   ]
  }
 ],
 "metadata": {
  "kernelspec": {
   "display_name": "Python 3 (ipykernel)",
   "language": "python",
   "name": "python3"
  },
  "language_info": {
   "codemirror_mode": {
    "name": "ipython",
    "version": 3
   },
   "file_extension": ".py",
   "mimetype": "text/x-python",
   "name": "python",
   "nbconvert_exporter": "python",
   "pygments_lexer": "ipython3",
   "version": "3.10.12"
  }
 },
 "nbformat": 4,
 "nbformat_minor": 5
}
