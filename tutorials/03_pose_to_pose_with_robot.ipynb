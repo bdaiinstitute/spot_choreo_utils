{
 "cells": [
  {
   "cell_type": "markdown",
   "id": "32a6b2cd",
   "metadata": {},
   "source": [
    "# Creating Pose-To-Pose Animations with a Robot"
   ]
  },
  {
   "cell_type": "markdown",
   "id": "014fd887",
   "metadata": {},
   "source": [
    "When building animations from scratch it can be a big help to see the pose on a real robot before adding it to an animation. This notebook walks through capturing the current joint state of a robot (posed using the spot tablet or other 3rd party tool) and adding it as the next frame in an animation"
   ]
  },
  {
   "cell_type": "markdown",
   "id": "a073dc73",
   "metadata": {},
   "source": [
    "# Connect To Robot"
   ]
  },
  {
   "cell_type": "code",
   "execution_count": null,
   "id": "7625dca7",
   "metadata": {},
   "outputs": [],
   "source": [
    "import logging\n",
    "import time\n",
    "from spot_wrapper.wrapper import SpotWrapper\n",
    "\n",
    "hostname=\"__ROBOT_IP__\"\n",
    "robot_name=\"__ROBOT_NAME__\"\n",
    "username=\"__USERNAME__\"\n",
    "password=\"__PASSWORD__\"\n",
    "has_arm = True\n",
    "port = 0\n",
    "logger = logging.Logger(name=\"spot_wrapper_logger\")\n",
    "\n",
    "spot_wrapper = SpotWrapper(\n",
    "    username=username, \n",
    "    password=password, \n",
    "    hostname=hostname, \n",
    "    port=port, \n",
    "    robot_name=robot_name, \n",
    "    logger=logger, \n",
    "    use_take_lease=True,\n",
    "    get_lease_on_action=True\n",
    ")\n",
    "\n",
    "assert(spot_wrapper.is_valid)\n",
    "spot_wrapper.claim()"
   ]
  },
  {
   "cell_type": "markdown",
   "id": "22e99f03",
   "metadata": {},
   "source": [
    "## Create an Animation Builder"
   ]
  },
  {
   "cell_type": "code",
   "execution_count": null,
   "id": "c43184b4",
   "metadata": {},
   "outputs": [],
   "source": [
    "from spot_choreo_utils.choreo_creation.choreo_builders.animation_builder import AnimationBuilder\n",
    "\n",
    "ANIMATION_NAME = \"new_animation\"\n",
    "animation_builder = AnimationBuilder()\n",
    "animation_builder.start_from_empty(name=ANIMATION_NAME)"
   ]
  },
  {
   "cell_type": "markdown",
   "id": "0bf69ed6",
   "metadata": {},
   "source": [
    "## Capture and add a pose"
   ]
  },
  {
   "cell_type": "markdown",
   "id": "8185b2ac",
   "metadata": {},
   "source": [
    "Use a tool to pose the robot for its next keyframe. Then run the next cell to capture the current robot joint angles.\n",
    "\n",
    "You can re-run the cell with different poses to build the animation pose by pose. Update the KEYFRAME_TIME variable so that each pose is added with an appropriate offset so that the robot doesn't move in fast, unexpected manners."
   ]
  },
  {
   "cell_type": "code",
   "execution_count": null,
   "id": "65649d7f",
   "metadata": {},
   "outputs": [],
   "source": [
    "from spatialmath import (\n",
    "    SE3\n",
    ")\n",
    "from spot_choreo_utils.choreo_creation.choreo_builders.animation_proto_utils import joint_angle_keyframe_to_proto\n",
    "from spot_choreo_utils.choreo_creation.robot_pose_to_pose_utils import get_pose_in_animation_frame, get_world_t_body\n",
    "\n",
    "# Timestamp to insert the keyframe \n",
    "KEYFRAME_TIME = 0\n",
    "\n",
    "current_body_frame = get_world_t_body(spot_wrapper._robot_state_client.get_robot_state())\n",
    "joint_angles = get_pose_in_animation_frame(spot_wrapper, current_body_frame)\n",
    "\n",
    "keyframe_proto = joint_angle_keyframe_to_proto(joint_angles, start_time=KEYFRAME_TIME)\n",
    "animation_builder.insert_keyframe_at_time(start_time=KEYFRAME_TIME, animation_keyframe=keyframe_proto)"
   ]
  },
  {
   "cell_type": "markdown",
   "id": "feb259e7",
   "metadata": {},
   "source": [
    "# Upload and play back the animation\n",
    "Run the next cell to upload and playback your pose-to-pose sequene on robot."
   ]
  },
  {
   "cell_type": "code",
   "execution_count": null,
   "id": "41ae9c10",
   "metadata": {},
   "outputs": [],
   "source": [
    "from spot_choreo_utils.choreo_creation.choreo_builders.animation_operators import create_single_animation_sequence\n",
    "\n",
    "build_settings = AnimationBuilder.BuildSettings()\n",
    "build_settings.hold_final_pose_s = 3\n",
    "\n",
    "# Automatically build the animation and create a single animation sequence with the same name\n",
    "animation_proto, seq_proto = create_single_animation_sequence(animation_builder, build_settings)\n",
    "print(animation_proto)\n",
    "print(seq_proto)\n",
    "spot_wrapper.claim()\n",
    "# Upload to robot\n",
    "spot_wrapper.upload_animation_proto(animation_proto)\n",
    "spot_wrapper.upload_choreography(seq_proto)\n",
    "time.sleep(1)\n",
    "# Playback sequence\n",
    "spot_wrapper.execute_choreography_by_name(seq_proto.name, start_slice=0)"
   ]
  },
  {
   "cell_type": "markdown",
   "id": "a7ac7691-e714-48db-a145-067414d2fc7f",
   "metadata": {},
   "source": [
    "# Re-Loading Animations from Disk\n",
    "Once you have some poses that you like, you can save them to disk for later playback and editing. The next cell will save the animation you've been working on and then re-load it from disk and play it on robot."
   ]
  },
  {
   "cell_type": "code",
   "execution_count": null,
   "id": "0575e806-aae7-46e1-bc81-32940dadd4c9",
   "metadata": {},
   "outputs": [],
   "source": [
    "from spot_choreo_utils.serialization.serialization_utils import load_animation, save_animation\n",
    "from spot_choreo_utils.choreo_creation.choreo_builders.animation_builder import AnimationBuilder\n",
    "from spot_choreo_utils.choreo_creation.choreo_builders.animation_operators import create_single_animation_sequence\n",
    "\n",
    "# Save the new animation to disk\n",
    "build_settings = AnimationBuilder.BuildSettings()\n",
    "build_settings.apply_unique_name = False\n",
    "\n",
    "animation_proto = animation_builder.build(build_settings)\n",
    "save_animation(animation_proto, \"new_animation\")\n",
    "\n",
    "# Load the example animation\n",
    "example_anim = load_animation(\"new_animation/new_animation.pbtxt\")\n",
    "\n",
    "animation_builder = AnimationBuilder()\n",
    "animation_builder.start_from_animation(example_anim)\n",
    "\n",
    "build_settings = AnimationBuilder.BuildSettings()\n",
    "build_settings.hold_final_pose_s = 3\n",
    "animation_proto, seq_proto = create_single_animation_sequence(animation_builder, build_settings)\n",
    "spot_wrapper.claim()\n",
    "# Upload to robot\n",
    "spot_wrapper.upload_animation_proto(animation_proto)\n",
    "spot_wrapper.upload_choreography(seq_proto)\n",
    "# Playback sequence\n",
    "spot_wrapper.execute_choreography_by_name(seq_proto.name, start_slice=0)"
   ]
  },
  {
   "cell_type": "markdown",
   "id": "ceea6890",
   "metadata": {},
   "source": [
    "This notebook has focused on creating some initial poses, adding them to an animation, and saving them for later. By building on this example code it should be clear how you could continue to load, edit, and save animations back to disk for iterative development and programatic generation of new Spot choreography."
   ]
  }
 ],
 "metadata": {
  "kernelspec": {
   "display_name": "Python 3 (ipykernel)",
   "language": "python",
   "name": "python3"
  },
  "language_info": {
   "codemirror_mode": {
    "name": "ipython",
    "version": 3
   },
   "file_extension": ".py",
   "mimetype": "text/x-python",
   "name": "python",
   "nbconvert_exporter": "python",
   "pygments_lexer": "ipython3",
   "version": "3.10.12"
  }
 },
 "nbformat": 4,
 "nbformat_minor": 5
}
