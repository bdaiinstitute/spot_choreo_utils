{
 "cells": [
  {
   "cell_type": "markdown",
   "id": "6e505435",
   "metadata": {},
   "source": [
    "# Combining Moves and Animations"
   ]
  },
  {
   "cell_type": "markdown",
   "id": "22a41432",
   "metadata": {},
   "source": [
    "Here we introduce a method of easily creating a choreography sequence from a list of moves, synchronized to music."
   ]
  },
  {
   "cell_type": "markdown",
   "id": "eee481dd",
   "metadata": {},
   "source": [
    "## Quickly creating a sequence from a list "
   ]
  },
  {
   "cell_type": "code",
   "execution_count": 1,
   "id": "ca71c8d6-c04c-4fa2-8e22-6fc8c313ec2d",
   "metadata": {},
   "outputs": [],
   "source": [
    "# We will use the add_moves() function to quickly create a sequence from a list of moves and their parameters."
   ]
  },
  {
   "cell_type": "code",
   "execution_count": 2,
   "id": "a07f083c-708a-43e1-b565-d2ed1b4e3b2e",
   "metadata": {},
   "outputs": [],
   "source": [
    "from spot_choreo_utils.serialization.serialization_utils import load_sequence, save_sequence\n",
    "from spot_choreo_utils.choreo_creation.choreo_builders.sequence_builder import SequenceBuilder\n",
    "import logging\n",
    "from pathlib import Path\n",
    "from spot_choreo_utils.paths import get_example_choreo_path\n",
    "\n",
    "\n",
    "logger = logging.Logger(name=\"spot_inferno_logger\")\n",
    "seq_bldr = SequenceBuilder(logger)\n",
    "music_bpm = 129 # bpm of the music file you will use\n",
    "slices_per_minute = music_bpm * 4\n",
    "seq_bldr.start_from_empty(\"spot_inferno_first_few_moves\", slices_per_minute=slices_per_minute)\n",
    "\n",
    "moves_list = [\n",
    "            {\n",
    "        \"type\": \"sway\",\n",
    "        \"start_slice\": 0,\n",
    "        \"requested_slices\": 4,\n",
    "        \"vertical\": 0.07,\n",
    "        \"pivot\": 3,\n",
    "        \"horizontal\": 0.00\n",
    "    },\n",
    "                {\n",
    "        \"type\": \"sway\",\n",
    "        \"requested_slices\": 4,\n",
    "        \"vertical\": 0.07,\n",
    "        \"pivot\": 3,\n",
    "        \"horizontal\": 0.00\n",
    "    },\n",
    "                    {\n",
    "        \"type\": \"sway\",\n",
    "        \"requested_slices\": 4,\n",
    "        \"vertical\": 0.07,\n",
    "        \"pivot\": 3,\n",
    "        \"horizontal\": 0.00\n",
    "    },\n",
    "                    {\n",
    "        \"type\": \"sway\",\n",
    "        \"requested_slices\": 4,\n",
    "        \"vertical\": 0.07,\n",
    "        \"pivot\": 3,\n",
    "        \"horizontal\": 0.00\n",
    "    },\n",
    "                    {\n",
    "        \"type\": \"sway\",\n",
    "        \"requested_slices\": 4,\n",
    "        \"vertical\": 0.07,\n",
    "        \"pivot\": 3,\n",
    "        \"horizontal\": 0.00\n",
    "    },\n",
    "                      {\n",
    "        \"type\": \"sway\",\n",
    "        \"requested_slices\": 4,\n",
    "        \"vertical\": 0.07,\n",
    "        \"horizontal\": 0.00\n",
    "    },\n",
    "                        {\n",
    "        \"type\": \"sway\",\n",
    "        \"requested_slices\": 4,\n",
    "        \"vertical\": 0.07,\n",
    "        \"horizontal\": 0.08\n",
    "    },\n",
    "                        {\n",
    "        \"type\": \"sway\",\n",
    "        \"requested_slices\": 4,\n",
    "        \"vertical\": 0.07,\n",
    "        \"horizontal\": -0.08\n",
    "    },\n",
    "    ]\n",
    "\n",
    "seq_bldr.add_moves(moves_list)\n",
    "\n",
    "seq = seq_bldr.build()"
   ]
  },
  {
   "cell_type": "markdown",
   "id": "d3db202f",
   "metadata": {},
   "source": [
    "# Connect to a Spot robot, create a SyncedSpotDancer instance, and set the sequence."
   ]
  },
  {
   "cell_type": "code",
   "execution_count": 3,
   "id": "cb7945d2",
   "metadata": {},
   "outputs": [
    {
     "data": {
      "text/plain": [
       "True"
      ]
     },
     "execution_count": 3,
     "metadata": {},
     "output_type": "execute_result"
    }
   ],
   "source": [
    "import logging\n",
    "from spot_choreo_utils.choreo_playback.synced_spot_dancer import SyncedSpotDancer\n",
    "\n",
    "\n",
    "hostname=\"10.17.30.34\"\n",
    "robot_name=\"opal\"\n",
    "username=\"user\"\n",
    "password=\"bbbdddaaaiii\"\n",
    "has_arm = True\n",
    "port = 0\n",
    "\n",
    "\n",
    "spot_one = SyncedSpotDancer(username=username, password=password, hostname=hostname, \n",
    "                               robot_name=robot_name, logger=logger, port=port)\n",
    "\n",
    "spot_one.set_sequence(seq)"
   ]
  },
  {
   "cell_type": "code",
   "execution_count": 4,
   "id": "b69fec64-17ee-4eee-9743-be0b1a831117",
   "metadata": {},
   "outputs": [],
   "source": [
    "# Setup music playback and unify with choreography"
   ]
  },
  {
   "cell_type": "code",
   "execution_count": 5,
   "id": "41d0a278-4644-4c0c-896e-5e7860b4b74a",
   "metadata": {},
   "outputs": [
    {
     "name": "stdout",
     "output_type": "stream",
     "text": [
      "Using audio file: /workspaces/spot_choreo_utils/choreo_files/examples/music/60_bpm.wav\n"
     ]
    }
   ],
   "source": [
    "from spot_choreo_utils.paths import get_example_choreo_path\n",
    "from pathlib import Path\n",
    "from spot_choreo_utils.choreo_playback.synced_audio_player import SyncedAudioPlayer\n",
    "from spot_choreo_utils.choreo_playback.synced_performance_coordinator import SyncedPerformanceCoordinator, SyncedPeroformanceConfig\n",
    "\n",
    "\n",
    "\n",
    "\n",
    "audio_file = Path(get_example_choreo_path(), \"music\", \"60_bpm.wav\")\n",
    "print(f\"Using audio file: {audio_file}\")\n",
    "audio_player = SyncedAudioPlayer(audio_file)\n",
    "\n",
    "coordinator = SyncedPerformanceCoordinator()\n",
    "coordinator.add_modality(spot_one)\n",
    "coordinator.add_modality(audio_player)\n",
    "\n",
    "config = SyncedPeroformanceConfig()\n",
    "config.start_time_s = 0                       \n",
    "config.end_time_s = 3.7\n",
    "config.music_offset_s = 19.5 # how far into the provided audio file should \n",
    "config.setup_timeout = 0\n",
    "delay_once_ready = 2"
   ]
  },
  {
   "cell_type": "code",
   "execution_count": 6,
   "id": "8c7f6a30-72af-46ce-8fa6-fd588024c012",
   "metadata": {},
   "outputs": [],
   "source": [
    "# Finally, request to perform synced dance when ready."
   ]
  },
  {
   "cell_type": "code",
   "execution_count": 7,
   "id": "48e2d51b-b558-4f81-8f03-6a16c68bae7a",
   "metadata": {},
   "outputs": [],
   "source": [
    "await coordinator.perform_when_ready(config, delay_once_ready=delay_once_ready)"
   ]
  },
  {
   "cell_type": "code",
   "execution_count": null,
   "id": "9bac7f5e-d822-4b8d-b99c-6adff05fa565",
   "metadata": {},
   "outputs": [],
   "source": [
    "# For the sake of brevity, we saved the complete dance sequence to disk as .pbtxt, which we can load and play as shown below. Feel free to checkout the .pbtxt file!"
   ]
  },
  {
   "cell_type": "code",
   "execution_count": 8,
   "id": "819840b6-524c-400d-8a0e-b7f1c405c56e",
   "metadata": {},
   "outputs": [
    {
     "name": "stdout",
     "output_type": "stream",
     "text": [
      "Using audio file: /workspaces/spot_choreo_utils/choreo_files/examples/music/60_bpm.wav\n"
     ]
    },
    {
     "ename": "CancelledError",
     "evalue": "",
     "output_type": "error",
     "traceback": [
      "\u001b[0;31m---------------------------------------------------------------------------\u001b[0m",
      "\u001b[0;31mCancelledError\u001b[0m                            Traceback (most recent call last)",
      "File \u001b[0;32m/usr/lib/python3.10/asyncio/tasks.py:605\u001b[0m, in \u001b[0;36msleep\u001b[0;34m(delay, result)\u001b[0m\n\u001b[1;32m    604\u001b[0m \u001b[38;5;28;01mtry\u001b[39;00m:\n\u001b[0;32m--> 605\u001b[0m     \u001b[38;5;28;01mreturn\u001b[39;00m \u001b[38;5;28;01mawait\u001b[39;00m future\n\u001b[1;32m    606\u001b[0m \u001b[38;5;28;01mfinally\u001b[39;00m:\n",
      "\u001b[0;31mCancelledError\u001b[0m: ",
      "\nDuring handling of the above exception, another exception occurred:\n",
      "\u001b[0;31mCancelledError\u001b[0m                            Traceback (most recent call last)",
      "Cell \u001b[0;32mIn[8], line 19\u001b[0m\n\u001b[1;32m     16\u001b[0m config\u001b[38;5;241m.\u001b[39msetup_timeout \u001b[38;5;241m=\u001b[39m \u001b[38;5;241m0\u001b[39m\n\u001b[1;32m     17\u001b[0m delay_once_ready \u001b[38;5;241m=\u001b[39m \u001b[38;5;241m2\u001b[39m\n\u001b[0;32m---> 19\u001b[0m \u001b[38;5;28;01mawait\u001b[39;00m coordinator\u001b[38;5;241m.\u001b[39mperform_when_ready(config, delay_once_ready\u001b[38;5;241m=\u001b[39mdelay_once_ready)\n",
      "File \u001b[0;32m~/spot_choreo_utils/spot_choreo_utils/choreo_playback/synced_performance_coordinator.py:35\u001b[0m, in \u001b[0;36mSyncedPerformanceCoordinator.perform_when_ready\u001b[0;34m(self, config, delay_once_ready)\u001b[0m\n\u001b[1;32m     33\u001b[0m \u001b[38;5;28;01mawait\u001b[39;00m \u001b[38;5;28mself\u001b[39m\u001b[38;5;241m.\u001b[39mprep_performance(config)\n\u001b[1;32m     34\u001b[0m \u001b[38;5;28;01mawait\u001b[39;00m asyncio\u001b[38;5;241m.\u001b[39msleep(delay_once_ready)\n\u001b[0;32m---> 35\u001b[0m \u001b[38;5;28;01mawait\u001b[39;00m \u001b[38;5;28mself\u001b[39m\u001b[38;5;241m.\u001b[39mstart_performance()\n",
      "File \u001b[0;32m~/spot_choreo_utils/spot_choreo_utils/choreo_playback/synced_performance_coordinator.py:29\u001b[0m, in \u001b[0;36mSyncedPerformanceCoordinator.start_performance\u001b[0;34m(self)\u001b[0m\n\u001b[1;32m     27\u001b[0m \u001b[38;5;124;03m\"\"\"Start all the modalities in sync\"\"\"\u001b[39;00m\n\u001b[1;32m     28\u001b[0m coroutines \u001b[38;5;241m=\u001b[39m [modality\u001b[38;5;241m.\u001b[39mstart_performance() \u001b[38;5;28;01mfor\u001b[39;00m modality \u001b[38;5;129;01min\u001b[39;00m \u001b[38;5;28mself\u001b[39m\u001b[38;5;241m.\u001b[39m_modalities]\n\u001b[0;32m---> 29\u001b[0m \u001b[38;5;28;01mawait\u001b[39;00m asyncio\u001b[38;5;241m.\u001b[39mgather(\u001b[38;5;241m*\u001b[39mcoroutines)\n",
      "\u001b[0;31mCancelledError\u001b[0m: "
     ]
    },
    {
     "name": "stderr",
     "output_type": "stream",
     "text": [
      "Generic exception for  during check-in:\n",
      "bosdyn.api.RetainLeaseResponse (LeaseUseError): \n",
      "    (resuming check-in)\n",
      "Generic exception for  during check-in:\n",
      "bosdyn.api.RetainLeaseResponse (LeaseUseError): \n",
      "    (resuming check-in)\n",
      "Generic exception for  during check-in:\n",
      "bosdyn.api.RetainLeaseResponse (LeaseUseError): \n",
      "    (resuming check-in)\n",
      "Generic exception for  during check-in:\n",
      "bosdyn.api.RetainLeaseResponse (LeaseUseError): \n",
      "    (resuming check-in)\n",
      "Generic exception for  during check-in:\n",
      "bosdyn.api.RetainLeaseResponse (LeaseUseError): \n",
      "    (resuming check-in)\n",
      "Generic exception for  during check-in:\n",
      "bosdyn.api.RetainLeaseResponse (LeaseUseError): \n",
      "    (resuming check-in)\n",
      "Generic exception for  during check-in:\n",
      "bosdyn.api.RetainLeaseResponse (LeaseUseError): \n",
      "    (resuming check-in)\n",
      "Generic exception for  during check-in:\n",
      "bosdyn.api.RetainLeaseResponse (LeaseUseError): \n",
      "    (resuming check-in)\n",
      "Generic exception for  during check-in:\n",
      "bosdyn.api.RetainLeaseResponse (LeaseUseError): \n",
      "    (resuming check-in)\n",
      "Generic exception for  during check-in:\n",
      "bosdyn.api.RetainLeaseResponse (LeaseUseError): \n",
      "    (resuming check-in)\n",
      "Generic exception for  during check-in:\n",
      "bosdyn.api.RetainLeaseResponse (LeaseUseError): \n",
      "    (resuming check-in)\n",
      "Generic exception for  during check-in:\n",
      "bosdyn.api.RetainLeaseResponse (LeaseUseError): \n",
      "    (resuming check-in)\n",
      "Generic exception for  during check-in:\n",
      "bosdyn.api.RetainLeaseResponse (LeaseUseError): \n",
      "    (resuming check-in)\n",
      "Generic exception for  during check-in:\n",
      "bosdyn.api.RetainLeaseResponse (LeaseUseError): \n",
      "    (resuming check-in)\n",
      "Generic exception for  during check-in:\n",
      "bosdyn.api.RetainLeaseResponse (LeaseUseError): \n",
      "    (resuming check-in)\n",
      "Generic exception for  during check-in:\n",
      "bosdyn.api.RetainLeaseResponse (LeaseUseError): \n",
      "    (resuming check-in)\n",
      "Generic exception for  during check-in:\n",
      "bosdyn.api.RetainLeaseResponse (LeaseUseError): \n",
      "    (resuming check-in)\n",
      "Generic exception for  during check-in:\n",
      "bosdyn.api.RetainLeaseResponse (LeaseUseError): \n",
      "    (resuming check-in)\n",
      "Generic exception for  during check-in:\n",
      "bosdyn.api.RetainLeaseResponse (LeaseUseError): \n",
      "    (resuming check-in)\n",
      "Generic exception for  during check-in:\n",
      "bosdyn.api.RetainLeaseResponse (LeaseUseError): \n",
      "    (resuming check-in)\n",
      "Generic exception for  during check-in:\n",
      "bosdyn.api.RetainLeaseResponse (LeaseUseError): \n",
      "    (resuming check-in)\n"
     ]
    }
   ],
   "source": [
    "seq = load_sequence(Path(get_example_choreo_path(), \"sequences\", \"spot_inferno_full_dance.pbtxt\"))\n",
    "spot_one.set_sequence(seq)\n",
    "\n",
    "audio_file = Path(get_example_choreo_path(), \"music\", \"60_bpm.wav\")\n",
    "print(f\"Using audio file: {audio_file}\")\n",
    "audio_player = SyncedAudioPlayer(audio_file)\n",
    "\n",
    "coordinator = SyncedPerformanceCoordinator()\n",
    "coordinator.add_modality(spot_one)\n",
    "coordinator.add_modality(audio_player)\n",
    "\n",
    "config = SyncedPeroformanceConfig()\n",
    "config.start_time_s = 0                       \n",
    "config.end_time_s = 100\n",
    "config.music_offset_s = 19.5 # how far into the provided audio file should \n",
    "config.setup_timeout = 0\n",
    "delay_once_ready = 2\n",
    "\n",
    "await coordinator.perform_when_ready(config, delay_once_ready=delay_once_ready)\n"
   ]
  },
  {
   "cell_type": "code",
   "execution_count": null,
   "id": "b83b1615-de6d-4507-9adc-1e53b9287096",
   "metadata": {},
   "outputs": [],
   "source": []
  }
 ],
 "metadata": {
  "kernelspec": {
   "display_name": "Python 3 (ipykernel)",
   "language": "python",
   "name": "python3"
  },
  "language_info": {
   "codemirror_mode": {
    "name": "ipython",
    "version": 3
   },
   "file_extension": ".py",
   "mimetype": "text/x-python",
   "name": "python",
   "nbconvert_exporter": "python",
   "pygments_lexer": "ipython3",
   "version": "3.10.12"
  }
 },
 "nbformat": 4,
 "nbformat_minor": 5
}
