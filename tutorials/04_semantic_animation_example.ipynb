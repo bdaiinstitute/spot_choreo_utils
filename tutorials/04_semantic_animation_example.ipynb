{
 "cells": [
  {
   "cell_type": "markdown",
   "id": "6e505435",
   "metadata": {},
   "source": [
    "# Semantic Animations"
   ]
  },
  {
   "cell_type": "markdown",
   "id": "22a41432",
   "metadata": {},
   "source": [
    "Semantic animations provide an interface to edit choreography in segments instead of at the keyframe level. By assigning a name to a section of keyframes it's possible to repeat, reverse, and otherwise edit sections of dance procedurally. This functionality is still early in its development, but provides a baseline for new utility functions."
   ]
  },
  {
   "cell_type": "markdown",
   "id": "eee481dd",
   "metadata": {},
   "source": [
    "## Converting an animation into a semantic animation"
   ]
  },
  {
   "cell_type": "code",
   "execution_count": null,
   "id": "d88fc0a1",
   "metadata": {},
   "outputs": [],
   "source": [
    "from pathlib import Path\n",
    "from spot_choreo_utils.choreo_creation.semantic_animations.semantic_animation_builder import SemanticAnimationBuilder\n",
    "from spot_choreo_utils.paths import get_example_choreo_path\n",
    "import spot_choreo_utils.serialization.serialization_utils as serialization_utils\n",
    "\n",
    "ANIM_PATH = Path(get_example_choreo_path(), \"animations\", \"pose_to_pose_animation.pbtxt\")\n",
    "\n",
    "\n",
    "# Load an animation in as a new semantic animation\n",
    "output_folder = ANIM_PATH.parent\n",
    "\n",
    "semantic_builder = SemanticAnimationBuilder()\n",
    "semantic_builder.load_animation(ANIM_PATH)\n",
    "\n",
    "# Save the semantic animation out to a new path\n",
    "semantic_builder.save_semantic_animation(output_folder, name_suffix=\"_semantic\")\n",
    "# To overwrite the animation after editing\n",
    "#serialization_utils.save_animation(semantic_builder.get_animation(), output_folder)"
   ]
  },
  {
   "cell_type": "markdown",
   "id": "d3db202f",
   "metadata": {},
   "source": [
    "Name segments of the animation - segments are inclusive of both their start and end keyframe so don't overlap start indexes"
   ]
  },
  {
   "cell_type": "code",
   "execution_count": null,
   "id": "cb7945d2",
   "metadata": {},
   "outputs": [],
   "source": [
    "semantic_builder.name_segment_by_index(\"whirly_bit\", start_index=1, end_index=3)\n",
    "semantic_builder.name_segment_by_index(\"bob_up_and_down\", start_index=5, end_index=7)\n",
    "\n",
    "print(semantic_builder.get_segment_ranges())"
   ]
  },
  {
   "cell_type": "markdown",
   "id": "35eba8b1",
   "metadata": {},
   "source": [
    "Remove a segment"
   ]
  },
  {
   "cell_type": "code",
   "execution_count": null,
   "id": "5064b20b",
   "metadata": {},
   "outputs": [],
   "source": [
    "semantic_builder.delete_animation_segment(\"bob_up_and_down\", adjust_trailing_keyframes=True)\n",
    "print(semantic_builder.get_segment_ranges())"
   ]
  },
  {
   "cell_type": "markdown",
   "id": "54020ba4",
   "metadata": {},
   "source": [
    "## Reversing and Repeating Sections"
   ]
  },
  {
   "cell_type": "code",
   "execution_count": null,
   "id": "0bc22cd2",
   "metadata": {},
   "outputs": [],
   "source": [
    "from spot_choreo_utils.choreo_creation.choreo_builders.animation_builder import AnimationBuilder\n",
    "from spot_choreo_utils.choreo_creation.semantic_animations.semantic_animation_operators import (\n",
    "    repeat_named_segment,\n",
    "    reverse_named_segment,\n",
    ")\n",
    "\n",
    "build_settings = AnimationBuilder.BuildSettings()\n",
    "\n",
    "print(len(semantic_builder.build(build_settings).animation_keyframes))\n",
    "# Repeat the segment so that it cycles\n",
    "repeat_named_segment(\n",
    "    semantic_builder=semantic_builder,\n",
    "    segment_name=\"whirly_bit\",\n",
    "    new_segment_name=\"whirly_bit_two\",\n",
    "    insertion_index=4,\n",
    ")\n",
    "print(semantic_builder.get_segment_ranges())\n",
    "\n",
    "# Now reverse the second sequence \n",
    "reverse_named_segment(semantic_builder=semantic_builder, segment_name=\"whirly_bit_two\")\n",
    "print(semantic_builder.get_segment_ranges())"
   ]
  }
 ],
 "metadata": {
  "kernelspec": {
   "display_name": "Python 3 (ipykernel)",
   "language": "python",
   "name": "python3"
  },
  "language_info": {
   "codemirror_mode": {
    "name": "ipython",
    "version": 3
   },
   "file_extension": ".py",
   "mimetype": "text/x-python",
   "name": "python",
   "nbconvert_exporter": "python",
   "pygments_lexer": "ipython3",
   "version": "3.10.12"
  }
 },
 "nbformat": 4,
 "nbformat_minor": 5
}
