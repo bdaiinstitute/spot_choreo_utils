{
 "cells": [
  {
   "cell_type": "markdown",
   "id": "43a0d148",
   "metadata": {},
   "source": [
    "# Play back Spot Dance Synced with Music"
   ]
  },
  {
   "cell_type": "markdown",
   "id": "5b19b1f0",
   "metadata": {},
   "source": [
    "One you've developed some motion for Spot, it's time to put your dance together. Perhaps you want to add some music? Maybe a second robot? With the SyncedPerformanceCoordinator you can easily prepare and start multiple synchronized modalities"
   ]
  },
  {
   "cell_type": "code",
   "execution_count": 1,
   "id": "6892a4b1",
   "metadata": {},
   "outputs": [],
   "source": [
    "from spot_choreo_utils.choreo_playback.synced_audio_player import SyncedAudioPlayer\n",
    "from spot_choreo_utils.choreo_playback.synced_performance_coordinator import SyncedPerformanceCoordinator, SyncedPeroformanceConfig\n",
    "from spot_choreo_utils.choreo_playback.synced_spot_dancer import SyncedSpotDancer"
   ]
  },
  {
   "cell_type": "markdown",
   "id": "8591c96d",
   "metadata": {},
   "source": [
    "# Setup Spot"
   ]
  },
  {
   "cell_type": "code",
   "execution_count": null,
   "id": "f7c06c59",
   "metadata": {},
   "outputs": [],
   "source": [
    "import logging\n",
    "from spot_wrapper.wrapper import SpotWrapper\n",
    "\n",
    "hostname=\"__ROBOT_IP__\"\n",
    "robot_name=\"__ROBOT_NAME__\"\n",
    "username=\"__USERNAME__\"\n",
    "password=\"__PASSWORD__\"\n",
    "has_arm = True\n",
    "port = 0\n",
    "logger = logging.Logger(name=\"spot_wrapper_logger\")\n",
    "\n",
    "\n",
    "spot_wrapper = SpotWrapper(\n",
    "    username=username,\n",
    "    password=password,\n",
    "    hostname=hostname,\n",
    "    robot_name=robot_name,\n",
    "    logger=logger,\n",
    "    use_take_lease=True,\n",
    "    port=port,\n",
    ")\n",
    "\n",
    "spot_one = SyncedSpotDancer(spot_wrapper=spot_wrapper)"
   ]
  },
  {
   "cell_type": "markdown",
   "id": "7ce0c15d-f408-4193-846a-f8e23e664f01",
   "metadata": {},
   "source": [
    "The SyncedSpotDancer class connects to the robot and handles dance playback. Set a single animation or full dance sequence to play on the robot."
   ]
  },
  {
   "cell_type": "code",
   "execution_count": null,
   "id": "afeb77d1",
   "metadata": {},
   "outputs": [],
   "source": [
    "from spot_choreo_utils.choreo_creation.choreo_builders.animation_builder import (\n",
    "    AnimationBuilder,\n",
    ")\n",
    "from spot_choreo_utils.serialization.serialization_utils import load_animation, load_sequence, save_animation\n",
    "from spot_choreo_utils.paths import get_example_choreo_path\n",
    "from pathlib import Path\n",
    "\n",
    "\n",
    "# Play Animation Example\n",
    "dance_path = Path(get_example_choreo_path(), \"animations\", \"pose_to_pose_animation.pbtxt\")\n",
    "animation = load_animation(dance_path)\n",
    "builder = AnimationBuilder.from_animation(animation)\n",
    "spot_one.set_animation(builder)\n",
    "\n",
    "# Play Sequence Example\n",
    "#sequence_path = Path(get_example_choreo_path(), \"sequences\", \"pose_to_pose_sequence.pbtxt\")\n",
    "#sequence = load_sequence(sequence_path)\n",
    "#spot_one.set_sequence(sequence)"
   ]
  },
  {
   "cell_type": "markdown",
   "id": "3be9a186",
   "metadata": {},
   "source": [
    "# Setup audio and dance"
   ]
  },
  {
   "cell_type": "markdown",
   "id": "d35b3a78-9a39-4d62-a86c-96880d46bf45",
   "metadata": {},
   "source": [
    "Load in some audio. By default we have a pretty uninspiring 60BPM tick, but feel free to swap it out with your own favorite song."
   ]
  },
  {
   "cell_type": "code",
   "execution_count": null,
   "id": "f2779283",
   "metadata": {},
   "outputs": [],
   "source": [
    "from pathlib import Path\n",
    "from spot_choreo_utils.paths import get_example_choreo_path\n",
    "\n",
    "audio_file = Path(get_example_choreo_path(), \"music\", \"60_bpm.wav\")\n",
    "print(audio_file)\n",
    "audio_player = SyncedAudioPlayer(audio_file)"
   ]
  },
  {
   "cell_type": "markdown",
   "id": "86f1163a",
   "metadata": {},
   "source": [
    "# Setup Playback\n",
    "Add all of your performers/modalities to the coordinators"
   ]
  },
  {
   "cell_type": "code",
   "execution_count": 5,
   "id": "7e41c4b7",
   "metadata": {},
   "outputs": [],
   "source": [
    "coordinator = SyncedPerformanceCoordinator()\n",
    "coordinator.add_modality(spot_one)\n",
    "coordinator.add_modality(audio_player)"
   ]
  },
  {
   "cell_type": "markdown",
   "id": "68aa444f",
   "metadata": {},
   "source": [
    "# Play\n",
    "Clear the dance floor, and away we go!"
   ]
  },
  {
   "cell_type": "code",
   "execution_count": null,
   "id": "4bef59a4",
   "metadata": {},
   "outputs": [],
   "source": [
    "config = SyncedPeroformanceConfig()\n",
    "config.start_time_s = 0\n",
    "config.end_time_s = 100\n",
    "config.music_offset_s = 4\n",
    "config.setup_timeout = 3\n",
    "delay_once_ready = 2\n",
    "\n",
    "\n",
    "await coordinator.perform_when_ready(config, delay_once_ready=delay_once_ready)"
   ]
  }
 ],
 "metadata": {
  "kernelspec": {
   "display_name": "Python 3 (ipykernel)",
   "language": "python",
   "name": "python3"
  },
  "language_info": {
   "codemirror_mode": {
    "name": "ipython",
    "version": 3
   },
   "file_extension": ".py",
   "mimetype": "text/x-python",
   "name": "python",
   "nbconvert_exporter": "python",
   "pygments_lexer": "ipython3",
   "version": "3.10.12"
  }
 },
 "nbformat": 4,
 "nbformat_minor": 5
}
