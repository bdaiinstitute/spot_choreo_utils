{
 "cells": [
  {
   "cell_type": "markdown",
   "id": "1836978d",
   "metadata": {},
   "source": [
    "# Choreography Builders"
   ]
  },
  {
   "cell_type": "markdown",
   "id": "ea5a9774",
   "metadata": {},
   "source": [
    "Instead of directly editing protobufs, the spot_choreo_utils library provides pythonic builders that make it easy to programatically build and perform high level validations without a robot."
   ]
  },
  {
   "cell_type": "markdown",
   "id": "ba145634",
   "metadata": {},
   "source": [
    "### Loading an existing animation"
   ]
  },
  {
   "cell_type": "markdown",
   "id": "971e2f91-2d0a-4b68-a030-aff09cfc79c9",
   "metadata": {},
   "source": [
    "Animation builders accept existing animations, unlocking all of the utility functions that come with animation builders for existing animations"
   ]
  },
  {
   "cell_type": "code",
   "execution_count": null,
   "id": "cc781fa9",
   "metadata": {},
   "outputs": [],
   "source": [
    "import logging\n",
    "from pathlib import Path\n",
    "from spot_choreo_utils.choreo_creation.choreo_builders.animation_builder import AnimationBuilder\n",
    "from spot_choreo_utils.paths import get_example_choreo_path\n",
    "from spot_choreo_utils.serialization.serialization_utils import load_animation\n",
    "\n",
    "\n",
    "#####\n",
    "# Build from base animation\n",
    "#####\n",
    "ANIMATION_PATH = Path(get_example_choreo_path(), \"animations\", \"pose_to_pose_animation.pbtxt\")\n",
    "existing_animation_proto = load_animation(ANIMATION_PATH)\n",
    "logger = logging.Logger(\"animation_builder_logger\")\n",
    "\n",
    "existing_builder = AnimationBuilder(logger)\n",
    "existing_builder.start_from_animation(existing_animation_proto)\n",
    "animation_builder_proto = existing_builder.build()\n",
    "print(animation_builder_proto)"
   ]
  },
  {
   "cell_type": "markdown",
   "id": "a30d2c1d-be58-4fae-b8df-fd2daa760170",
   "metadata": {},
   "source": [
    "Animation builders provide high level validation for the animation everytime it's built. You can toggle this feature, as well as other common animation settings by passing the BuildSetting class into the build_animation call. You can also call explicit validation checks prior to building the final animation. While it doesn't guarantee that the animation will play back successfully on robot, it does catch common issuses related to missing or ill defined properties."
   ]
  },
  {
   "cell_type": "code",
   "execution_count": null,
   "id": "94726f6b-740c-4158-95dc-4470b752950a",
   "metadata": {},
   "outputs": [],
   "source": [
    "# You can explicitly check animation validity, but it is automatically checked in the build step\n",
    "print(existing_builder.validate())\n",
    "# Introduce an issue into the animation\n",
    "existing_builder.raw_keyframes[0].time = 3\n",
    "print(existing_builder.validate())\n",
    "\n",
    "# Pass custom settings to the builder - turning off only output valid will\n",
    "# allow the builder to return animations that don't pass offline validation\n",
    "build_settings = AnimationBuilder.BuildSettings()\n",
    "build_settings.only_output_valid = False\n",
    "build_settings.apply_unique_name = False\n",
    "build_settings.hold_final_pose_s = 3\n",
    "animation_builder_proto = existing_builder.build(build_settings)\n",
    "print(animation_builder_proto)"
   ]
  },
  {
   "cell_type": "markdown",
   "id": "5bd8a94e-7330-4891-9a39-ad3eb12c93bf",
   "metadata": {},
   "source": [
    "### Building from Scratch"
   ]
  },
  {
   "cell_type": "markdown",
   "id": "35c1bb1b-4901-4516-bf9d-8483a96bd312",
   "metadata": {},
   "source": [
    "Animation builders also massively reduce the amount of code required to create animations and sequences programatically."
   ]
  },
  {
   "cell_type": "code",
   "execution_count": null,
   "id": "690d6244-1b40-45f9-8868-9b2c4d5589d9",
   "metadata": {},
   "outputs": [],
   "source": [
    "gripper_builder = AnimationBuilder(logger)\n",
    "gripper_builder.start_from_empty(name=\"gripper_open_close\")\n",
    "gripper_builder.animate_gripper(start_time=0, gripper_angle=0.0)\n",
    "gripper_builder.animate_gripper(start_time=1, gripper_angle=-1.0)\n",
    "gripper_builder.animate_gripper(start_time=2, gripper_angle=0.0)\n",
    "\n",
    "gripper_animation = gripper_builder.build()\n",
    "print(gripper_animation)"
   ]
  },
  {
   "cell_type": "markdown",
   "id": "a36a61d8",
   "metadata": {},
   "source": [
    "The sequence builder handles building and validating the choreography sequence proto"
   ]
  },
  {
   "cell_type": "code",
   "execution_count": null,
   "id": "aa6cbafc",
   "metadata": {},
   "outputs": [],
   "source": [
    "from spot_choreo_utils.choreo_creation.choreo_builders.sequence_builder import SequenceBuilder\n",
    "import logging\n",
    "import sys\n",
    "\n",
    "logger = logging.Logger(\"Sequence builder\")\n",
    "\n",
    "sequence_builder = SequenceBuilder(logger)\n",
    "sequence_builder.start_from_empty(name=\"gripper_open_close\")\n",
    "sequence_builder.add_animation(animation=gripper_animation, start_time=0)\n",
    "\n",
    "gripper_sequence = sequence_builder.build()\n",
    "print(gripper_sequence)"
   ]
  }
 ],
 "metadata": {
  "kernelspec": {
   "display_name": "Python 3 (ipykernel)",
   "language": "python",
   "name": "python3"
  },
  "language_info": {
   "codemirror_mode": {
    "name": "ipython",
    "version": 3
   },
   "file_extension": ".py",
   "mimetype": "text/x-python",
   "name": "python",
   "nbconvert_exporter": "python",
   "pygments_lexer": "ipython3",
   "version": "3.10.12"
  }
 },
 "nbformat": 4,
 "nbformat_minor": 5
}
